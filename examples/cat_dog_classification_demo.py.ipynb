{
 "cells": [
  {
   "cell_type": "code",
   "execution_count": 128,
   "metadata": {},
   "outputs": [],
   "source": [
    "import numpy as np\n",
    "import matplotlib.pyplot as plt\n",
    "import sys\n",
    "import matplotlib.cm as cm\n",
    "import os\n",
    "import glob"
   ]
  },
  {
   "cell_type": "code",
   "execution_count": 135,
   "metadata": {},
   "outputs": [],
   "source": [
    "# The caffe module needs to be on the Python path;\n",
    "#  we'll add it here explicitly.\n",
    "import sys\n",
    "caffe_root = '../'  # this file should be run from {caffe_root}/examples (otherwise change this line)\n",
    "sys.path.insert(0, caffe_root + 'python')\n",
    "\n",
    "import caffe\n",
    "# If you get \"No module named _caffe\", either you have not built pycaffe or you have the wrong path."
   ]
  },
  {
   "cell_type": "markdown",
   "metadata": {},
   "source": [
    "### Set up CPU mode and load caffemodel"
   ]
  },
  {
   "cell_type": "code",
   "execution_count": 38,
   "metadata": {},
   "outputs": [],
   "source": [
    "caffe.set_mode_cpu()\n",
    "\n",
    "# Test the partially trained new model using Alexnet\n",
    "model_def = caffe_root + 'models/kaggle_cats_dogs_alexnet/deploy.prototxt'\n",
    "# Replace it once fully trained new model using Alexnet\n",
    "model_weights = caffe_root + 'models/kaggle_cats_dogs_alexnet/caffe_alexnet_train_iter_5000.caffemodel'\n",
    "\n",
    "# TODO: Uncomment when transfer learning is done for this model\n",
    "# model_def = caffe_root + 'models/kaggle_cats_dogs_caffenet/deploy.prototxt'\n",
    "# model_weights = caffe_root + 'models/kaggle_cats_dogs_caffenet/caffe_caffenet_train_iter_4000.caffemodel'\n",
    "\n",
    "# Use this existing trained model until the training is in progress for the rest of the two\n",
    "# model_def = caffe_root + 'models/bvlc_reference_caffenet/deploy.prototxt'\n",
    "# model_weights = caffe_root + 'models/bvlc_reference_caffenet/bvlc_reference_caffenet.caffemodel'\n",
    "\n",
    "net = caffe.Net(model_def,      # defines the structure of the model\n",
    "                model_weights,  # contains the trained weights\n",
    "                caffe.TEST)     # use test mode (e.g., don't perform dropout)"
   ]
  },
  {
   "cell_type": "markdown",
   "metadata": {},
   "source": [
    "\n",
    "### Set up input preprocessing\n",
    "\n",
    "* (We'll use Caffe's caffe.io.Transformer to do this, but this step is independent of other parts of Caffe, so any custom preprocessing code may be used).\n",
    "\n",
    "* Our default CaffeNet is configured to take images in BGR format. Values are expected to start in the range [0, 255] and then have the mean ImageNet pixel value subtracted from them. In addition, the channel dimension is expected as the first (outermost) dimension.\n",
    "\n",
    "* As matplotlib will load images with values in the range [0, 1] in RGB format with the channel as the innermost dimension, we are arranging for the needed transformations here."
   ]
  },
  {
   "cell_type": "code",
   "execution_count": 39,
   "metadata": {},
   "outputs": [
    {
     "name": "stdout",
     "output_type": "stream",
     "text": [
      "mean-subtracted values: [('B', 104.0069879317889), ('G', 116.66876761696767), ('R', 122.6789143406786)]\n"
     ]
    }
   ],
   "source": [
    "# load the mean ImageNet image (as distributed with Caffe) for subtraction\n",
    "mu = np.load(caffe_root + 'python/caffe/imagenet/ilsvrc_2012_mean.npy')\n",
    "mu = mu.mean(1).mean(1)  # average over pixels to obtain the mean (BGR) pixel values\n",
    "print 'mean-subtracted values:', zip('BGR', mu)\n",
    "\n",
    "# create transformer for the input called 'data'\n",
    "transformer = caffe.io.Transformer({'data': net.blobs['data'].data.shape})\n",
    "\n",
    "transformer.set_transpose('data', (2,0,1))  # move image channels to outermost dimension\n",
    "transformer.set_mean('data', mu)            # subtract the dataset-mean value in each channel\n",
    "transformer.set_raw_scale('data', 255)      # rescale from [0, 1] to [0, 255]\n",
    "transformer.set_channel_swap('data', (2,1,0))  # swap channels from RGB to BGR"
   ]
  },
  {
   "cell_type": "markdown",
   "metadata": {},
   "source": [
    "### Add labels (optional)\n",
    "\n",
    "* If you have many classes then you can create a mapping for the class id and the name. \n",
    "  for instance, in [**ILSVRC12**](https://github.com/onkarganjewar/caffe/blob/master/data/ilsvrc12/get_ilsvrc_aux.sh#L15) there are thousands of classes mapped with labels such as\n",
    "  207 --> dog\n",
    "* In our case, we only have two classes dog (1) or cat (0).   "
   ]
  },
  {
   "cell_type": "code",
   "execution_count": 40,
   "metadata": {},
   "outputs": [],
   "source": [
    "# load ImageNet labels\n",
    "# labels_file = caffe_root + 'data/ilsvrc12/synset_words.txt'\n",
    "# if not os.path.exists(labels_file):\n",
    "#     !../data/ilsvrc12/get_ilsvrc_aux.sh\n",
    "    \n",
    "# labels = np.loadtxt(labels_file, str, delimiter='\\t')"
   ]
  },
  {
   "cell_type": "markdown",
   "metadata": {},
   "source": [
    "### Run net to classify single input image for test (optional)"
   ]
  },
  {
   "cell_type": "code",
   "execution_count": 41,
   "metadata": {},
   "outputs": [
    {
     "name": "stdout",
     "output_type": "stream",
     "text": [
      "Issa dog!!\n"
     ]
    }
   ],
   "source": [
    "filename = caffe_root + 'examples/doggo.jpg'\n",
    "# transform the image and copy it into the net\n",
    "image = caffe.io.load_image(filename)\n",
    "net.blobs['data'].data[...] = transformer.preprocess('data', image)\n",
    "\n",
    "# perform classification\n",
    "output = net.forward()\n",
    "\n",
    "# the output probability vector for the first image in the batch\n",
    "output_prob = output['prob'][0]  \n",
    "\n",
    "output_class = output_prob.argmax()\n",
    "print 'Issa {}!!'.format('dog' if output_class else 'cat') \n"
   ]
  },
  {
   "cell_type": "markdown",
   "metadata": {},
   "source": [
    "### Run net on a set of input images\n",
    "\n",
    "* We will run our trained net on the list of sample images inside the specified directory.\n",
    "* Also, image files will be sorted by name for readability purposes, thanks to [Jeff Atwood](https://blog.codinghorror.com/sorting-for-humans-natural-sort-order/)"
   ]
  },
  {
   "cell_type": "code",
   "execution_count": 118,
   "metadata": {},
   "outputs": [],
   "source": [
    "import re \n",
    "def sorted_nicely( l ): \n",
    "    \"\"\" Sort the given iterable in the way that humans expect.\"\"\" \n",
    "    convert = lambda text: int(text) if text.isdigit() else text \n",
    "    alphanum_key = lambda key: [ convert(c) for c in re.split('([0-9]+)', key) ] \n",
    "    return sorted(l, key = alphanum_key)"
   ]
  },
  {
   "cell_type": "code",
   "execution_count": 119,
   "metadata": {},
   "outputs": [],
   "source": [
    "# img_dir_path = caffe_root + 'data/kaggle-cats-dogs/demo-test-images'\n",
    "# img_list = os.listdir(img_dir_path)\n",
    "# sorted_img_list = sorted_nicely(img_list)\n",
    "\n",
    "# for filename in sorted_img_list[:2]:\n",
    "#     print img_dir_path + filename\n",
    "# # for filename in glob.iglob(caffe_root + 'data/kaggle-cats-dogs/demo-test-images/*.jpg'):\n",
    "\n"
   ]
  },
  {
   "cell_type": "code",
   "execution_count": 136,
   "metadata": {},
   "outputs": [
    {
     "name": "stdout",
     "output_type": "stream",
     "text": [
      "../data/kaggle-cats-dogs/demo-test-images\n",
      "predicted class for cat-5.jpg: cat\n",
      "predicted class for cat-6.jpg: cat\n",
      "predicted class for cat-7.jpg: cat\n",
      "predicted class for cat-8.jpg: cat\n",
      "predicted class for cat-9.jpg: cat\n",
      "predicted class for cat-10.jpg: cat\n",
      "predicted class for cat-11.jpg: cat\n",
      "predicted class for cat-13.jpg: cat\n",
      "predicted class for cat-14.jpg: cat\n",
      "predicted class for cat-15.jpg: cat\n",
      "predicted class for cat-16.jpg: cat\n",
      "predicted class for cat-19.jpg: cat\n",
      "predicted class for cat-20.jpg: cat\n",
      "predicted class for cat-22.jpg: cat\n",
      "predicted class for cat-25.jpg: cat\n",
      "predicted class for cat-28.jpg: cat\n",
      "predicted class for cat-29.jpg: cat\n",
      "predicted class for dog-1.jpg: dog\n",
      "predicted class for dog-2.jpg: dog\n",
      "predicted class for dog-3.jpg: dog\n",
      "predicted class for dog-4.jpg: dog\n",
      "predicted class for dog-12.jpg: dog\n",
      "predicted class for dog-17.jpg: dog\n",
      "predicted class for dog-18.jpg: dog\n",
      "predicted class for dog-21.jpg: dog\n",
      "predicted class for dog-23.jpg: dog\n",
      "predicted class for dog-24.jpg: dog\n",
      "predicted class for dog-26.jpg: dog\n",
      "predicted class for dog-27.jpg: dog\n"
     ]
    }
   ],
   "source": [
    "# caffe_root = '/Users/ganon01/Documents/Work/Hackathon/image-classification/caffe/'\n",
    "img_dir_path = caffe_root + 'data/kaggle-cats-dogs/demo-test-images'\n",
    "img_list = os.listdir(img_dir_path)\n",
    "sorted_img_list = sorted_nicely(img_list)\n",
    "print img_dir_path\n",
    "\n",
    "for filename in sorted_img_list:\n",
    "    # transform the image and copy it into the net\n",
    "    image = caffe.io.load_image(img_dir_path + '/' + filename)\n",
    "    net.blobs['data'].data[...] = transformer.preprocess('data', image)\n",
    "\n",
    "    # perform classification\n",
    "    output = net.forward()\n",
    "    \n",
    "    # the output probability vector for the first image in the batch\n",
    "    output_prob = output['prob'][0]  \n",
    "    \n",
    "    output_class = output_prob.argmax()\n",
    "#     print(output_class) \n",
    "    # 1 for dog, 0 for cat\n",
    "    print 'predicted class for {}: {}'.format(os.path.basename(filename), ('dog' if output_class else 'cat'))"
   ]
  },
  {
   "cell_type": "markdown",
   "metadata": {},
   "source": [
    "### Run the net on set of test images by Kaggle (optional)\n",
    "\n",
    "* We can run our trained network on the 12.5k test images provided by [Kaggle](https://www.kaggle.com/c/dogs-vs-cats/data)\n",
    "* Also, the output is structured in the way specified by the [Kaggle Dogs vs. Cats competition](https://www.kaggle.com/c/dogs-vs-cats#evaluation)\n",
    "\n",
    "> Submission Format\n",
    "   Your submission should have a header. For each image in the test set, predict a label for its id **(1 = dog, 0 = cat)**:\n",
    "```\n",
    "id,label\n",
    "1,0\n",
    "2,0\n",
    "3,0\n",
    "etc...\n",
    "```"
   ]
  },
  {
   "cell_type": "code",
   "execution_count": null,
   "metadata": {},
   "outputs": [],
   "source": [
    "import csv\n",
    "result_dict = {}\n",
    "\n",
    "def test_kaggle_dataset( img_dir_path ):\n",
    "    img_list = os.listdir(img_dir_path)\n",
    "    sorted_img_list = sorted_nicely(img_list)\n",
    "    print img_dir_path\n",
    "    \n",
    "    for filename in sorted_img_list:\n",
    "#             print filename\n",
    "        # transform the image and copy it into the net\n",
    "        image = caffe.io.load_image(img_dir_path + '/' + filename) # since we are sorting only the filenames we have to provide full path to load the image here\n",
    "        net.blobs['data'].data[...] = transformer.preprocess('data', image)\n",
    "        # perform classification\n",
    "        output = net.forward()\n",
    "\n",
    "        # the output probability vector for the first image in the batch\n",
    "        output_prob = output['prob'][0]  \n",
    "\n",
    "        output_class = output_prob.argmax()\n",
    "        result_dict[os.path.splitext(os.path.basename(filename))[0]] = str(output_class)\n",
    "    #     print(output_class) \n",
    "        # 1 for dog, 0 for cat\n",
    "        ## Write output into a csv file for submission\n",
    "        op_file = caffe_root + 'data/kaggle-cats-dogs/kaggle-test-submission-1.csv'\n",
    "\n",
    "        with open(op_file, 'wb') as csv_file:\n",
    "            fwriter = csv.writer(csv_file)\n",
    "            fwriter.writerow([\"id\", \"label\"])\n",
    "\n",
    "            for key, value in result_dict.items():\n",
    "                fwriter.writerow([key, value])"
   ]
  },
  {
   "cell_type": "code",
   "execution_count": null,
   "metadata": {},
   "outputs": [],
   "source": []
  },
  {
   "cell_type": "code",
   "execution_count": null,
   "metadata": {},
   "outputs": [
    {
     "name": "stdout",
     "output_type": "stream",
     "text": [
      "../data/kaggle-cats-dogs/test\n"
     ]
    }
   ],
   "source": [
    "test_kaggle_dataset(caffe_root + 'data/kaggle-cats-dogs/test')"
   ]
  },
  {
   "cell_type": "code",
   "execution_count": null,
   "metadata": {},
   "outputs": [],
   "source": []
  }
 ],
 "metadata": {
  "kernelspec": {
   "display_name": "Python 2",
   "language": "python",
   "name": "python2"
  },
  "language_info": {
   "codemirror_mode": {
    "name": "ipython",
    "version": 2
   },
   "file_extension": ".py",
   "mimetype": "text/x-python",
   "name": "python",
   "nbconvert_exporter": "python",
   "pygments_lexer": "ipython2",
   "version": "2.7.15"
  }
 },
 "nbformat": 4,
 "nbformat_minor": 2
}
