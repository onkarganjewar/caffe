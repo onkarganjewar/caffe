{
 "cells": [
  {
   "cell_type": "code",
   "execution_count": 1,
   "metadata": {},
   "outputs": [],
   "source": [
    "# Import stuff\n",
    "import os\n",
    "import glob\n"
   ]
  },
  {
   "cell_type": "code",
   "execution_count": 2,
   "metadata": {},
   "outputs": [],
   "source": [
    "# dir, filename = os.path.basename(os.path.dirname(p)), os.path.basename(p)\n",
    "# for filename in os.listdir(directory):\n",
    "#     if filename.endswith(\".asm\") or filename.endswith(\".py\"): \n",
    "#         # print(os.path.join(directory, filename))\n",
    "#         continue\n",
    "#     else:\n",
    "#         continue\n",
    "# train_data_path = os.getcwd() + os.chdir('../data/kaggle-cats-dogs/train/')\n",
    "#     print(filename_updated)\n",
    "#     category_name = os.path.splitext(filename_updated)[0]\n",
    "\n",
    "def get_dataset(path):\n",
    "    train_data_dir = os.path.join(os.getcwd(), path)\n",
    "    train_data_path = os.path.abspath(os.path.realpath(train_data_dir))\n",
    "    print(\"Training data path == \" + train_data_path)\n",
    "\n",
    "    dog_list = []\n",
    "    cat_list = []\n",
    "\n",
    "    for filename in glob.iglob(train_data_path + '/*.jpg'):\n",
    "        # Strip the last `.` and get the filename only w/o extension\n",
    "        filename_wo_extension = os.path.splitext(os.path.basename(filename))[0]\n",
    "        # Get the name of the file in format 'dog-0, cat-0'\n",
    "        filename_updated = filename_wo_extension.replace(\".\", \"\") \n",
    "        if \"dog\" in filename_updated:\n",
    "            dog_list.append(filename_updated)\n",
    "        elif \"cat\" in filename_updated:\n",
    "            cat_list.append(filename_updated)\n",
    "    return (dog_list, cat_list)\n",
    "\n",
    "def create_dataset(dog_set, cat_set, op_file):\n",
    "    with open(op_file, 'w') as f:\n",
    "        for k in dog_set:\n",
    "            f.write(k + ' ' + '1' + '\\n')\n",
    "        for k in cat_set:\n",
    "            f.write(k + ' ' + '0' + '\\n')"
   ]
  },
  {
   "cell_type": "code",
   "execution_count": 3,
   "metadata": {},
   "outputs": [
    {
     "name": "stdout",
     "output_type": "stream",
     "text": [
      "Training data path == /Users/ganon01/Documents/Work/Hackathon/image-classification/caffe/data/kaggle-cats-dogs/train\n",
      "(8750, 3750)\n"
     ]
    }
   ],
   "source": [
    "dog_data, cat_data = get_dataset(\"../data/kaggle-cats-dogs/train\")\n",
    "train_len = int(len(dog_data)*0.7)\n",
    "# There are equal no of cats and dogs images, so whichever len you choose does not matter\n",
    "test_len = int(len(cat_data)*0.3) \n",
    "# print(train_len, test_len)\n",
    "\n",
    "# Mark first 70% of data as training data \n",
    "dog_train, cat_train = dog_data[:train_len], cat_data[:train_len]\n",
    "\n",
    "# Mark last 30% of data as testing data\n",
    "dog_test, cat_test = dog_data[test_len:], cat_data[test_len:]\n",
    "\n",
    "create_dataset(dog_train, cat_train, \"train.txt\") # Training dataset\n",
    "create_dataset(dog_test, cat_test, \"val.txt\") # Validation dataset"
   ]
  },
  {
   "cell_type": "code",
   "execution_count": null,
   "metadata": {},
   "outputs": [],
   "source": []
  }
 ],
 "metadata": {
  "kernelspec": {
   "display_name": "Python 2",
   "language": "python",
   "name": "python2"
  },
  "language_info": {
   "codemirror_mode": {
    "name": "ipython",
    "version": 2
   },
   "file_extension": ".py",
   "mimetype": "text/x-python",
   "name": "python",
   "nbconvert_exporter": "python",
   "pygments_lexer": "ipython2",
   "version": "2.7.15"
  }
 },
 "nbformat": 4,
 "nbformat_minor": 2
}
