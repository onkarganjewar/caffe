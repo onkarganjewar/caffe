{
 "cells": [
  {
   "cell_type": "code",
   "execution_count": 15,
   "metadata": {},
   "outputs": [],
   "source": [
    "# Import stuff\n",
    "import os\n",
    "import glob\n",
    "from sklearn.utils import shuffle\n"
   ]
  },
  {
   "cell_type": "code",
   "execution_count": 16,
   "metadata": {},
   "outputs": [
    {
     "name": "stdout",
     "output_type": "stream",
     "text": [
      "/Users/ganon01/Documents/Work/Hackathon/image-classification/caffe/data/kaggle-cats-dogs\n"
     ]
    }
   ],
   "source": [
    "\n",
    "KAGGLE_DATA_DIR = os.path.abspath(os.path.realpath(os.path.join(os.getcwd(), \"../../data/kaggle-cats-dogs\")))\n",
    "print(KAGGLE_DATA_DIR)"
   ]
  },
  {
   "cell_type": "code",
   "execution_count": 17,
   "metadata": {},
   "outputs": [],
   "source": [
    "\n",
    "def get_dataset():\n",
    "    dog_list = []\n",
    "    cat_list = []\n",
    "\n",
    "    for filename in glob.iglob(KAGGLE_DATA_DIR + '/train/*.jpg'):\n",
    "        # Get only the name of the file(w/ extension) instead of the entire path\n",
    "        filename_updated = os.path.basename(filename)\n",
    "#         print(filename_updated)\n",
    "        if \"dog\" in filename_updated:\n",
    "            dog_list.append(filename_updated)\n",
    "        elif \"cat\" in filename_updated:\n",
    "            cat_list.append(filename_updated)\n",
    "    return shuffle(dog_list, cat_list, random_state=0)\n",
    "\n",
    "def create_dataset(dog_set, cat_set, op_file):\n",
    "    with open(op_file, 'w') as f:\n",
    "        for k in dog_set:\n",
    "            f.write(k + ' ' + '1' + '\\n')\n",
    "        for k in cat_set:\n",
    "            f.write(k + ' ' + '0' + '\\n')"
   ]
  },
  {
   "cell_type": "code",
   "execution_count": null,
   "metadata": {},
   "outputs": [],
   "source": []
  },
  {
   "cell_type": "code",
   "execution_count": 18,
   "metadata": {},
   "outputs": [
    {
     "name": "stdout",
     "output_type": "stream",
     "text": [
      "(8750, 8750)\n"
     ]
    }
   ],
   "source": [
    "dog_data, cat_data = get_dataset()\n",
    "train_len = int(len(dog_data)*0.7)\n",
    "# There are equal no of cats and dogs images, so whichever len you choose does not matter\n",
    "test_len = int(len(cat_data)*0.7) \n",
    "print(train_len, test_len)\n",
    "\n",
    "# Mark first 70% of shuffled data as training data \n",
    "dog_train, cat_train = dog_data[:train_len], cat_data[:train_len]\n",
    "\n",
    "# Mark last 30% of shuffled data as testing data\n",
    "dog_test, cat_test = dog_data[test_len:], cat_data[test_len:]\n",
    "\n",
    "create_dataset(dog_train, cat_train, KAGGLE_DATA_DIR + \"/train.txt\") # Training dataset\n",
    "create_dataset(dog_test, cat_test, KAGGLE_DATA_DIR + \"/val.txt\") # Validation dataset"
   ]
  },
  {
   "cell_type": "code",
   "execution_count": null,
   "metadata": {},
   "outputs": [],
   "source": []
  }
 ],
 "metadata": {
  "kernelspec": {
   "display_name": "Python 2",
   "language": "python",
   "name": "python2"
  },
  "language_info": {
   "codemirror_mode": {
    "name": "ipython",
    "version": 2
   },
   "file_extension": ".py",
   "mimetype": "text/x-python",
   "name": "python",
   "nbconvert_exporter": "python",
   "pygments_lexer": "ipython2",
   "version": "2.7.15"
  }
 },
 "nbformat": 4,
 "nbformat_minor": 2
}
